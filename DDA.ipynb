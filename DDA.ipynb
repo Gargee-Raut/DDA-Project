{
  "nbformat": 4,
  "nbformat_minor": 0,
  "metadata": {
    "colab": {
      "provenance": []
    },
    "kernelspec": {
      "name": "python3",
      "display_name": "Python 3"
    }
  },
  "cells": [
    {
      "cell_type": "markdown",
      "metadata": {
        "id": "TswFFgk1eo64"
      },
      "source": [
        "## **Sentiment Analysis of Tweets**"
      ]
    },
    {
      "cell_type": "code",
      "metadata": {
        "id": "gcQ5iGTee78D"
      },
      "source": [
        "# import libraries\n",
        "import tweepy\n",
        "from textblob import TextBlob\n",
        "from wordcloud import WordCloud\n",
        "import pandas as pd\n",
        "import numpy as np\n",
        "import re\n",
        "import csv\n",
        "import matplotlib.pyplot as plt\n",
        "plt.style.use('fivethirtyeight')"
      ],
      "execution_count": null,
      "outputs": []
    },
    {
      "cell_type": "code",
      "metadata": {
        "id": "lfgB29NWksL0"
      },
      "source": [
        "# Twitter credentials\n",
        "consumerKey = \"AcP8KYr7nSt11kovpQIRwgvns\"\n",
        "consumerSecret = \"ns5mYbxhu9fy4HZtlo3nnG1kOakVgfzeZ9YZiQRplj7NDutIgi\"\n",
        "accessToken = \"1335224178882965504-BC262WYWn2zPddCKR5MPo4zJPuSZ0T\"\n",
        "accessTokenSecret = \"r2xVpbW8YLxQ1YagFFMbU9rOyRKy9X2e69edxx55LqHam\""
      ],
      "execution_count": null,
      "outputs": []
    },
    {
      "cell_type": "code",
      "metadata": {
        "id": "qemlGyM1mIgc"
      },
      "source": [
        "# authentication\n",
        "authenticate = tweepy.OAuthHandler(consumerKey,consumerSecret)\n",
        "authenticate.set_access_token(accessToken, accessTokenSecret)\n",
        "api = tweepy.API(authenticate, wait_on_rate_limit = True)"
      ],
      "execution_count": null,
      "outputs": []
    },
    {
      "cell_type": "code",
      "metadata": {
        "colab": {
          "base_uri": "https://localhost:8080/"
        },
        "id": "nulE98KZpPTU",
        "outputId": "0dabbdfd-2870-4587-bd39-597eb17137eb"
      },
      "source": [
        "# extraxt tweets\n",
        "name = input(\"Enter the user handle: \")\n",
        "posts = api.user_timeline(screen_name= name, count = 100, lang =\"en\", tweet_mode=\"extended\")\n",
        "print(\"Recent tweets :\\n\")\n",
        "j = 1\n",
        "for i in posts[:5]:\n",
        "  print(str(j) + ')' + i.full_text +'\\n')\n",
        "  j+=1"
      ],
      "execution_count": null,
      "outputs": [
        {
          "output_type": "stream",
          "text": [
            "Enter the user handle: RahulGandhi\n",
            "Recent tweets :\n",
            "\n",
            "1)बनाना नहीं, सिर्फ़ बेचना जानता है।\n",
            "\n",
            "#IndiaAgainstPrivatisation which hurts the public and benefits only a handful of cronies. https://t.co/YGTzrbZyrm\n",
            "\n",
            "2)As warned earlier, #Covid19 continues to be a big threat.\n",
            "\n",
            "Please keep the guards up- wear masks and follow all precautions. https://t.co/IBgA4N0Dx7\n",
            "\n",
            "3)केंद्र सरकार की दोनों हाथों से दिनदहाड़े लूट-\n",
            "\n",
            "1. गैस-डीज़ल-पेट्रोल पर ज़बरदस्त टैक्स वसूली।\n",
            "\n",
            "2. मित्रों को PSU-PSB बेचकर जनता से हिस्सेदारी, रोज़गार व सुविधाएँ छीनना।\n",
            "\n",
            "PM का एक ही क़ायदा, \n",
            "देश फूँककर मित्रों का फ़ायदा।\n",
            "\n",
            "4)आपकी संपत्ति 2020 में कितनी बढ़ी? \n",
            "शून्य।\n",
            "\n",
            "आप जीने के लिए संघर्ष कर रहे हैं जबकि उसने ₹12 लाख करोड़ कमाकर अपनी संपत्ति 50% बढ़ा ली।\n",
            "\n",
            "आप मुझे बता सकते हैं ऐसा क्यों? https://t.co/21RSspLy15\n",
            "\n",
            "5)How much did your wealth increase in 2020? Zero. \n",
            "\n",
            "You struggle to survive while he makes ₹ 12 Lakh Cr and increases his wealth by 50%.\n",
            "\n",
            "Can you tell me why? https://t.co/5sW65Kx7bi\n",
            "\n"
          ],
          "name": "stdout"
        }
      ]
    },
    {
      "cell_type": "code",
      "metadata": {
        "id": "DLZSulP-r1vG"
      },
      "source": [
        "# File creation\n",
        "with open(\"tweets.csv\", 'w') as post:\n",
        "  writer = csv.writer(post)\n",
        "  writer.writerow(['sno.','id', 'tweet'])\n",
        "  j=0\n",
        "  for i in posts :\n",
        "      j += 1\n",
        "      writer.writerow([j, i.id, i.full_text] )"
      ],
      "execution_count": null,
      "outputs": []
    },
    {
      "cell_type": "markdown",
      "metadata": {
        "id": "iKf499UUwLzb"
      },
      "source": [
        "**Read file**"
      ]
    },
    {
      "cell_type": "code",
      "metadata": {
        "id": "YG9NaEehsO22"
      },
      "source": [
        "# with open('tweets.csv','r') as p:\n",
        "#   reader = csv.reader(p, delimiter =\" \")\n",
        "#   for row in reader:\n",
        "#     print(row)"
      ],
      "execution_count": null,
      "outputs": []
    },
    {
      "cell_type": "code",
      "metadata": {
        "colab": {
          "base_uri": "https://localhost:8080/",
          "height": 202
        },
        "id": "D-ahjgpzvRUE",
        "outputId": "ce32a540-eb1e-4592-f33d-43a9150adce7"
      },
      "source": [
        "#Dataframe created\n",
        "df = pd.read_csv(\"tweets.csv\")\n",
        "df.head()"
      ],
      "execution_count": null,
      "outputs": [
        {
          "output_type": "execute_result",
          "data": {
            "text/html": [
              "<div>\n",
              "<style scoped>\n",
              "    .dataframe tbody tr th:only-of-type {\n",
              "        vertical-align: middle;\n",
              "    }\n",
              "\n",
              "    .dataframe tbody tr th {\n",
              "        vertical-align: top;\n",
              "    }\n",
              "\n",
              "    .dataframe thead th {\n",
              "        text-align: right;\n",
              "    }\n",
              "</style>\n",
              "<table border=\"1\" class=\"dataframe\">\n",
              "  <thead>\n",
              "    <tr style=\"text-align: right;\">\n",
              "      <th></th>\n",
              "      <th>sno.</th>\n",
              "      <th>id</th>\n",
              "      <th>tweet</th>\n",
              "    </tr>\n",
              "  </thead>\n",
              "  <tbody>\n",
              "    <tr>\n",
              "      <th>0</th>\n",
              "      <td>1</td>\n",
              "      <td>1370964948705218563</td>\n",
              "      <td>As the Quad works towards a free, open, secure...</td>\n",
              "    </tr>\n",
              "    <tr>\n",
              "      <th>1</th>\n",
              "      <td>2</td>\n",
              "      <td>1370935534198079492</td>\n",
              "      <td>28th March...this year’s third #MannKiBaat and...</td>\n",
              "    </tr>\n",
              "    <tr>\n",
              "      <th>2</th>\n",
              "      <td>3</td>\n",
              "      <td>1370686644081328132</td>\n",
              "      <td>Had a telephone conversation with President @G...</td>\n",
              "    </tr>\n",
              "    <tr>\n",
              "      <th>3</th>\n",
              "      <td>4</td>\n",
              "      <td>1370416535240548353</td>\n",
              "      <td>Our discussions today on vaccines, climate cha...</td>\n",
              "    </tr>\n",
              "    <tr>\n",
              "      <th>4</th>\n",
              "      <td>5</td>\n",
              "      <td>1370416533441187841</td>\n",
              "      <td>United in our fight against COVID-19, we launc...</td>\n",
              "    </tr>\n",
              "  </tbody>\n",
              "</table>\n",
              "</div>"
            ],
            "text/plain": [
              "   sno.                   id                                              tweet\n",
              "0     1  1370964948705218563  As the Quad works towards a free, open, secure...\n",
              "1     2  1370935534198079492  28th March...this year’s third #MannKiBaat and...\n",
              "2     3  1370686644081328132  Had a telephone conversation with President @G...\n",
              "3     4  1370416535240548353  Our discussions today on vaccines, climate cha...\n",
              "4     5  1370416533441187841  United in our fight against COVID-19, we launc..."
            ]
          },
          "metadata": {
            "tags": []
          },
          "execution_count": 30
        }
      ]
    }
  ]
}